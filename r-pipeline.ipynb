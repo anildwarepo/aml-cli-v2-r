{
 "cells": [
  {
   "cell_type": "code",
   "execution_count": 1,
   "metadata": {},
   "outputs": [],
   "source": [
    "#Provide the Subscription ID of your existing Azure subscription\r\n",
    "subscription_id = \"\" # <- needs to be the subscription with the Quick-Starts resource group\r\n",
    "\r\n",
    "#Provide values for the existing Resource Group \r\n",
    "resource_group = \"\" # <- replace XXXXX with your unique identifier\r\n",
    "\r\n",
    "#Provide the Workspace Name and Azure Region of the Azure Machine Learning Workspace\r\n",
    "workspace_name = \"\" # <- replace XXXXX with your unique identifier (should be lowercase)\r\n",
    "workspace_region = \"\" # <- region of your Quick-Starts resource group\r\n",
    "\r\n",
    "aml_compute_target = \"cpucluster1\" # <- the name of your GPU-enabled cluster\r\n",
    "\r\n",
    "experiment_name = 'r-pipeline'\r\n",
    "\r\n",
    "# project folder for the script files\r\n",
    "project_folder = 'src'\r\n",
    "src_dir = 'src'"
   ]
  },
  {
   "cell_type": "code",
   "execution_count": 2,
   "metadata": {},
   "outputs": [
    {
     "name": "stderr",
     "output_type": "stream",
     "text": [
      "Failure while loading azureml_run_type_providers. Failed to load entrypoint automl = azureml.train.automl.run:AutoMLRun._from_run_dto with exception (numpy 1.20.2 (c:\\users\\anildwa\\miniconda3\\envs\\aml\\lib\\site-packages), Requirement.parse('numpy<=1.19.3; sys_platform == \"win32\"'), {'azureml-dataset-runtime'}).\n",
      "Warning: Falling back to use azure cli login credentials.\n",
      "If you run your code in unattended mode, i.e., where you can't give a user input, then we recommend to use ServicePrincipalAuthentication or MsiAuthentication.\n",
      "Please refer to aka.ms/aml-notebook-auth for different authentication mechanisms in azureml-sdk.\n"
     ]
    },
    {
     "name": "stdout",
     "output_type": "stream",
     "text": [
      "Library configuration succeeded\n"
     ]
    }
   ],
   "source": [
    "from azureml.core import Workspace\r\n",
    "from azureml.core.authentication import InteractiveLoginAuthentication\r\n",
    "\r\n",
    "interactive_auth = InteractiveLoginAuthentication(tenant_id=\"72f988bf-86f1-41af-91ab-2d7cd011db47\")\r\n",
    "#subscription_id = '<sub-id>'\r\n",
    "#resource_group  = '<rg>'\r\n",
    "#workspace_name  = '<workspace>'\r\n",
    "\r\n",
    "try:\r\n",
    "    ws = Workspace(subscription_id = subscription_id, resource_group = resource_group, workspace_name = workspace_name, auth = interactive_auth)\r\n",
    "    ws.write_config()\r\n",
    "    print('Library configuration succeeded')\r\n",
    "except:\r\n",
    "    print('Workspace not found')"
   ]
  },
  {
   "cell_type": "code",
   "execution_count": 3,
   "metadata": {},
   "outputs": [
    {
     "name": "stdout",
     "output_type": "stream",
     "text": [
      "Workspace configuration succeeded\n"
     ]
    }
   ],
   "source": [
    "# By using the exist_ok param, if the worskpace already exists you get a reference to the existing workspace\r\n",
    "# allowing you to re-run this cell multiple times as desired (which is fairly common in notebooks).\r\n",
    "ws = Workspace.create(\r\n",
    "    name = workspace_name,\r\n",
    "    subscription_id = subscription_id,\r\n",
    "    resource_group = resource_group, \r\n",
    "    location = workspace_region,\r\n",
    "    exist_ok = True)\r\n",
    "\r\n",
    "ws.write_config()\r\n",
    "print('Workspace configuration succeeded')"
   ]
  },
  {
   "cell_type": "code",
   "execution_count": 4,
   "metadata": {},
   "outputs": [
    {
     "name": "stdout",
     "output_type": "stream",
     "text": [
      "found existing compute target.\n",
      "Aml Compute attached\n"
     ]
    }
   ],
   "source": [
    "from azureml.core.compute_target import ComputeTargetException\r\n",
    "from azureml.core.compute import AmlCompute\r\n",
    "from azureml.core.compute import ComputeTarget\r\n",
    "\r\n",
    "try:\r\n",
    "    aml_compute = AmlCompute(ws, aml_compute_target)\r\n",
    "    print(\"found existing compute target.\")\r\n",
    "except ComputeTargetException:\r\n",
    "    print(\"creating new compute target\")\r\n",
    "    \r\n",
    "    provisioning_config = AmlCompute.provisioning_configuration(vm_size = \"STANDARD_DS2_V2\",\r\n",
    "                                                                min_nodes = 0, \r\n",
    "                                                                max_nodes = 1)    \r\n",
    "    aml_compute = ComputeTarget.create(ws, aml_compute_target, provisioning_config)\r\n",
    "    aml_compute.wait_for_completion(show_output=True, min_node_count=None, timeout_in_minutes=20)\r\n",
    "    \r\n",
    "print(\"Aml Compute attached\")"
   ]
  },
  {
   "cell_type": "code",
   "execution_count": 5,
   "metadata": {},
   "outputs": [],
   "source": [
    "from azureml.core import Environment\r\n",
    "import os\r\n",
    "\r\n",
    "env = Environment.from_dockerfile(name='r_env', dockerfile=os.path.join(\"./\", 'Dockerfile'))"
   ]
  },
  {
   "cell_type": "code",
   "execution_count": 6,
   "metadata": {},
   "outputs": [],
   "source": [
    "from azureml.core import ScriptRunConfig\r\n",
    "\r\n",
    "script_config = ScriptRunConfig(source_directory=src_dir,\r\n",
    "                            command=['Rscript adlsgen2.R ', '', ''],\r\n",
    "                            compute_target=aml_compute,\r\n",
    "                            environment=env)"
   ]
  },
  {
   "cell_type": "code",
   "execution_count": 7,
   "metadata": {},
   "outputs": [],
   "source": [
    "from azureml.pipeline.steps import CommandStep\r\n",
    "\r\n",
    "rstep = CommandStep(name='r_train_step', runconfig=script_config)"
   ]
  },
  {
   "cell_type": "code",
   "execution_count": 8,
   "metadata": {},
   "outputs": [
    {
     "name": "stdout",
     "output_type": "stream",
     "text": [
      "Created step r_train_step [7fc0d69f][d9d29cbe-7b2b-4b20-86d8-52e7582f337f], (This step will run and generate new outputs)\n",
      "Submitted PipelineRun e193b7e0-1b5d-4fb5-9bce-966809b29a2d\n",
      "Link to Azure Machine Learning Portal: https://ml.azure.com/runs/e193b7e0-1b5d-4fb5-9bce-966809b29a2d?wsid=/subscriptions/3e0e14b3-7e28-4da7-97de-0f5cb324f030/resourcegroups/ml/workspaces/ml-service&tid=72f988bf-86f1-41af-91ab-2d7cd011db47\n"
     ]
    }
   ],
   "source": [
    "from azureml.pipeline.core import Pipeline\r\n",
    "from azureml.core import Experiment\r\n",
    "\r\n",
    "pipeline = Pipeline(workspace=ws, steps=[rstep])\r\n",
    "pipeline_run = Experiment(ws, 'r-commandstep-pipeline').submit(pipeline)"
   ]
  }
 ],
 "metadata": {
  "interpreter": {
   "hash": "a5d4df4a22655ddcd3995113ae21abdf5e3f153b58eb8770b042525e3ea05670"
  },
  "kernelspec": {
   "display_name": "Python 3.7.10 64-bit ('aml': conda)",
   "name": "python3"
  },
  "language_info": {
   "codemirror_mode": {
    "name": "ipython",
    "version": 3
   },
   "file_extension": ".py",
   "mimetype": "text/x-python",
   "name": "python",
   "nbconvert_exporter": "python",
   "pygments_lexer": "ipython3",
   "version": "3.7.10"
  },
  "orig_nbformat": 4
 },
 "nbformat": 4,
 "nbformat_minor": 2
}